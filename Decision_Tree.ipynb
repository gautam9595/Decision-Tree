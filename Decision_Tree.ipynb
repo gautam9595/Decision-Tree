{
  "nbformat": 4,
  "nbformat_minor": 0,
  "metadata": {
    "colab": {
      "name": "Decision Tree.ipynb",
      "provenance": [],
      "collapsed_sections": []
    },
    "kernelspec": {
      "name": "python3",
      "display_name": "Python 3"
    },
    "language_info": {
      "name": "python"
    }
  },
  "cells": [
    {
      "cell_type": "markdown",
      "metadata": {
        "id": "z9n6YCcZpjNT"
      },
      "source": [
        "#Preliminary imports and tree-node structure"
      ]
    },
    {
      "cell_type": "code",
      "metadata": {
        "id": "QnzCJGxCVB3P"
      },
      "source": [
        "#This code is built using google collab and Each task of the assignment is being implemented in a cell, so its best to run it on the google collab platform.\n",
        "import numpy as np\n",
        "import pandas as pd\n",
        "from google.colab import files      #comment this if not using google collab\n",
        "import matplotlib.pyplot as plt\n",
        "%matplotlib inline\n",
        "\n",
        "import copy\n",
        "import math\n",
        "from sklearn.model_selection import train_test_split\n",
        "from sklearn.model_selection import KFold\n",
        "\n",
        "#Tree Node structure\n",
        "class Tree_Node:\n",
        "  def __init__(self,Attr_index, threshold, leaf):\n",
        "    self.Attribute_index = Attr_index           #or class if leaf node\n",
        "    self.threshold = threshold          #or None if leaf node\n",
        "    self.leaf_node = leaf                         #True for leaf node\n",
        "    self.left_P = None\n",
        "    self.right_P = None\n",
        "    self.class_distribution = {}        #dict\n",
        "  "
      ],
      "execution_count": null,
      "outputs": []
    },
    {
      "cell_type": "markdown",
      "metadata": {
        "id": "3RZYSjW5psTX"
      },
      "source": [
        "#Taking the input dataset"
      ]
    },
    {
      "cell_type": "code",
      "metadata": {
        "id": "W8pP0TLaV0hz",
        "colab": {
          "resources": {
            "http://localhost:8080/nbextensions/google.colab/files.js": {
              "data": "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",
              "ok": true,
              "headers": [
                [
                  "content-type",
                  "application/javascript"
                ]
              ],
              "status": 200,
              "status_text": "OK"
            }
          },
          "base_uri": "https://localhost:8080/",
          "height": 73
        },
        "outputId": "df758a89-fe3a-42d3-d00a-4375c4ad08fa"
      },
      "source": [
        "from google.colab import files      #comment this if not using google collab\n",
        "uploaded = files.upload()           #comment this if not using google collab\n",
        "\n",
        "import io\n",
        "df = pd.read_csv(io.BytesIO(uploaded['bupa.csv']),header=None)      #comment this if not using google collab\n",
        "\n",
        "#Reading file from local computer\n",
        "#df = pd.read_csv('bupa.csv',header=None)"
      ],
      "execution_count": null,
      "outputs": [
        {
          "output_type": "display_data",
          "data": {
            "text/html": [
              "\n",
              "     <input type=\"file\" id=\"files-6c61b515-40e8-4b0e-aa7d-c6c20408d9ef\" name=\"files[]\" multiple disabled\n",
              "        style=\"border:none\" />\n",
              "     <output id=\"result-6c61b515-40e8-4b0e-aa7d-c6c20408d9ef\">\n",
              "      Upload widget is only available when the cell has been executed in the\n",
              "      current browser session. Please rerun this cell to enable.\n",
              "      </output>\n",
              "      <script src=\"/nbextensions/google.colab/files.js\"></script> "
            ],
            "text/plain": [
              "<IPython.core.display.HTML object>"
            ]
          },
          "metadata": {}
        },
        {
          "output_type": "stream",
          "name": "stdout",
          "text": [
            "Saving bupa.csv to bupa.csv\n"
          ]
        }
      ]
    },
    {
      "cell_type": "markdown",
      "metadata": {
        "id": "bGWC7h0Tt1xn"
      },
      "source": [
        "#Sepearting Target column"
      ]
    },
    {
      "cell_type": "code",
      "metadata": {
        "id": "CP9-m5iSt08N"
      },
      "source": [
        "df.drop([df.columns[-1]],axis=1,inplace = True)\n",
        "df=df.sample(frac=1)        #shuffling data\n",
        "Target_set = np.array(df.iloc[:,-1])\n",
        "Train_set = np.array(df.drop([df.columns[-1]],axis=1))\n",
        "for i in range(len(Target_set)):\n",
        "  if Target_set[i] > 5:\n",
        "    Target_set[i] = 1\n",
        "  else:\n",
        "    Target_set[i] = 2\n"
      ],
      "execution_count": null,
      "outputs": []
    },
    {
      "cell_type": "markdown",
      "metadata": {
        "id": "djonKT9oo6I2"
      },
      "source": [
        "#Spliting the Data into training and testing set"
      ]
    },
    {
      "cell_type": "code",
      "metadata": {
        "id": "0cgWyGm8qpCS"
      },
      "source": [
        "x_train, x_test, y_train, y_test = train_test_split(Train_set, Target_set, test_size = 0.2)\n",
        "x_train = np.array(x_train)\n",
        "y_train = np.array(y_train)\n",
        "x_test = np.array(x_test)\n",
        "y_test = np.array(y_test)"
      ],
      "execution_count": null,
      "outputs": []
    },
    {
      "cell_type": "markdown",
      "metadata": {
        "id": "45DI8MDmpHzp"
      },
      "source": [
        "#Building the tree with default criteria as 'Gini'."
      ]
    },
    {
      "cell_type": "code",
      "metadata": {
        "id": "IaoKuCcG2F-3"
      },
      "source": [
        "model = Decision_tree(x_train, y_train, x_test, y_test, criteria= 'IG')\n",
        "model.fit()"
      ],
      "execution_count": null,
      "outputs": []
    },
    {
      "cell_type": "markdown",
      "metadata": {
        "id": "AK-9mZxDpTDs"
      },
      "source": [
        "#calculating the accuracy of the model\n",
        "\n"
      ]
    },
    {
      "cell_type": "code",
      "metadata": {
        "colab": {
          "base_uri": "https://localhost:8080/"
        },
        "id": "wvfGF_OsP9QD",
        "outputId": "87ed33fd-4515-481d-83e3-1fb79e469268"
      },
      "source": [
        "print('Accuracy: ' + str(model.score()) + ', nodes in the tree: ' + str(model.total_nodes()))"
      ],
      "execution_count": null,
      "outputs": [
        {
          "output_type": "stream",
          "name": "stdout",
          "text": [
            "Accuracy: 0.7536231884057971, nodes in the tree: 103\n"
          ]
        }
      ]
    },
    {
      "cell_type": "markdown",
      "metadata": {
        "id": "yxIncRpZquMc"
      },
      "source": [
        "#Finding accuracy over 10 random splits: Q2 solution"
      ]
    },
    {
      "cell_type": "code",
      "metadata": {
        "id": "qxK7ZGOBqvOq",
        "colab": {
          "base_uri": "https://localhost:8080/"
        },
        "outputId": "9b96a727-2f90-48b2-d524-becb647e185b"
      },
      "source": [
        "score_list = []\n",
        "score_list2 = []\n",
        "best_model = 0\n",
        "best_score = 0\n",
        "models = []\n",
        "for _ in range(10):\n",
        "  x_train, x_test, y_train, y_test = train_test_split(Train_set, Target_set, test_size = 0.2)\n",
        "  x_train = np.array(x_train)\n",
        "  y_train = np.array(y_train)\n",
        "  x_test = np.array(x_test)\n",
        "  y_test = np.array(y_test)\n",
        "\n",
        "  #Train model\n",
        "  modeli = Decision_tree(x_train, y_train, x_test, y_test)\n",
        "  modeli.fit()\n",
        "  models.append(modeli)\n",
        "  s = modeli.score()\n",
        "  score_list.append(s)\n",
        "  if best_score < s:\n",
        "    best_model = copy.deepcopy(modeli)\n",
        "    best_score = s \n",
        "  \n",
        "  modelj = Decision_tree(x_train, y_train, x_test, y_test,criteria = 'Information Gain')\n",
        "  modelj.fit()\n",
        "  s = modelj.score()\n",
        "  score_list2.append(s)\n",
        "  if best_score < s:\n",
        "    best_model = copy.deepcopy(modelj)\n",
        "    best_score = s \n",
        "\n",
        "print(\"Score1:\", end = ' ')\n",
        "print(*score_list, sep = ', ')\n",
        "\n",
        "print(\"Score2:\", end = ' ')\n",
        "print(*score_list2, sep = ', ')\n",
        "\n",
        "print('Mean of score_list1: ' + str(np.mean(score_list)) + '    SD: ' + str(np.std(score_list)))\n",
        "print('Mean of score_list1: ' + str(np.mean(score_list2)) + '   SD: ' + str(np.std(score_list2)))"
      ],
      "execution_count": null,
      "outputs": [
        {
          "output_type": "stream",
          "name": "stdout",
          "text": [
            "Score1: 0.6811594202898551, 0.7246376811594203, 0.7681159420289855, 0.6666666666666666, 0.6086956521739131, 0.7246376811594203, 0.6521739130434783, 0.7681159420289855, 0.7246376811594203, 0.782608695652174\n",
            "Score2: 0.5942028985507246, 0.6376811594202898, 0.6811594202898551, 0.7246376811594203, 0.6956521739130435, 0.6666666666666666, 0.5507246376811594, 0.7246376811594203, 0.6811594202898551, 0.6521739130434783\n",
            "Mean of score_list1: 0.7101449275362318    SD: 0.053838190205816545\n",
            "Mean of score_list1: 0.6608695652173914   SD: 0.052334695899326926\n"
          ]
        }
      ]
    },
    {
      "cell_type": "code",
      "metadata": {
        "id": "LLDBnH6dRuEq",
        "colab": {
          "base_uri": "https://localhost:8080/",
          "height": 279
        },
        "outputId": "24f1bc66-314c-4f5c-bec3-1c4e915199ef"
      },
      "source": [
        "#plotting graph of accuracy information_gain and Gini index\n",
        "plt.xlabel('Fold Number')\n",
        "plt.ylabel('Accuracy')\n",
        "plt.plot(list(range(1,len(score_list)+1)), score_list, label=\"Gini index\")\n",
        "plt.plot(list(range(1,len(score_list)+1)), score_list2, label=\"Information Gain\")\n",
        "plt.legend(loc='best')\n",
        "plt.savefig('IvsG.png')\n",
        "#files.download(\"IvsG.png\")"
      ],
      "execution_count": null,
      "outputs": [
        {
          "output_type": "display_data",
          "data": {
            "image/png": "[encoded data removed]",
            "text/plain": [
              "<Figure size 432x288 with 1 Axes>"
            ]
          },
          "metadata": {
            "needs_background": "light"
          }
        }
      ]
    },
    {
      "cell_type": "markdown",
      "metadata": {
        "id": "zTzbY1JUKsFv"
      },
      "source": [
        "#Finding the accuracy of a tree at various depth limit: Q3 solution\n"
      ]
    },
    {
      "cell_type": "code",
      "metadata": {
        "id": "9VG4t5FBG4Ko",
        "colab": {
          "base_uri": "https://localhost:8080/"
        },
        "outputId": "b8c7847a-2734-48c3-d228-26d8a0073e12"
      },
      "source": [
        "x_train, x_test, y_train, y_test = train_test_split(Train_set, Target_set, test_size = 0.2)\n",
        "x_train = np.array(x_train)\n",
        "y_train = np.array(y_train)\n",
        "x_test = np.array(x_test)\n",
        "y_test = np.array(y_test)\n",
        "model = Decision_tree(x_train, y_train, x_test, y_test)\n",
        "model.fit()\n",
        "Acc = []      #accuracy\n",
        "no_of_nodes = []       #nodes\n",
        "depth_of_the_tree = []       #depth\n",
        "best_depth_model = 0\n",
        "best_depth = 0\n",
        "best_s = 0\n",
        "for i in range(model.tree_depth(), 0, -1):\n",
        "  model.prune_at_depth(i)\n",
        "  s = model.score()\n",
        "  no = model.total_nodes()\n",
        "  dep = model.tree_depth()\n",
        "  Acc.append(s)\n",
        "  no_of_nodes.append(no)\n",
        "  depth_of_the_tree.append(dep)\n",
        "  if best_s < s:\n",
        "    best_s = s\n",
        "    best_depth = i\n",
        "    best_depth_model = copy.deepcopy(model)\n",
        "  print('Number of nodes: ' +str(no) + ' Accuracy: ' + str(s))\n",
        "\n",
        "\n"
      ],
      "execution_count": null,
      "outputs": [
        {
          "output_type": "stream",
          "name": "stdout",
          "text": [
            "Number of nodes: 109 Accuracy: 0.6811594202898551\n",
            "Number of nodes: 105 Accuracy: 0.6811594202898551\n",
            "Number of nodes: 99 Accuracy: 0.6666666666666666\n",
            "Number of nodes: 91 Accuracy: 0.6956521739130435\n",
            "Number of nodes: 75 Accuracy: 0.6666666666666666\n",
            "Number of nodes: 57 Accuracy: 0.6956521739130435\n",
            "Number of nodes: 41 Accuracy: 0.6956521739130435\n",
            "Number of nodes: 25 Accuracy: 0.7101449275362319\n",
            "Number of nodes: 15 Accuracy: 0.7246376811594203\n",
            "Number of nodes: 7 Accuracy: 0.7536231884057971\n",
            "Number of nodes: 3 Accuracy: 0.6811594202898551\n"
          ]
        }
      ]
    },
    {
      "cell_type": "code",
      "metadata": {
        "id": "rTje1CK4P_VH",
        "colab": {
          "base_uri": "https://localhost:8080/"
        },
        "outputId": "b39053a9-e76f-4cbe-bac2-9d70c5b411e4"
      },
      "source": [
        "for i in range(len(Acc)):\n",
        "  print('Depth of the tree: ' + str(depth_of_the_tree[i]) + ', Number of nodes: ' +str(no_of_nodes[i]) + ', Accuracy: ' + str(Acc[i]))\n"
      ],
      "execution_count": null,
      "outputs": [
        {
          "output_type": "stream",
          "name": "stdout",
          "text": [
            "Depth of the tree: 11, Number of nodes: 109, Accuracy: 0.6811594202898551\n",
            "Depth of the tree: 10, Number of nodes: 105, Accuracy: 0.6811594202898551\n",
            "Depth of the tree: 9, Number of nodes: 99, Accuracy: 0.6666666666666666\n",
            "Depth of the tree: 8, Number of nodes: 91, Accuracy: 0.6956521739130435\n",
            "Depth of the tree: 7, Number of nodes: 75, Accuracy: 0.6666666666666666\n",
            "Depth of the tree: 6, Number of nodes: 57, Accuracy: 0.6956521739130435\n",
            "Depth of the tree: 5, Number of nodes: 41, Accuracy: 0.6956521739130435\n",
            "Depth of the tree: 4, Number of nodes: 25, Accuracy: 0.7101449275362319\n",
            "Depth of the tree: 3, Number of nodes: 15, Accuracy: 0.7246376811594203\n",
            "Depth of the tree: 2, Number of nodes: 7, Accuracy: 0.7536231884057971\n",
            "Depth of the tree: 1, Number of nodes: 3, Accuracy: 0.6811594202898551\n"
          ]
        }
      ]
    },
    {
      "cell_type": "markdown",
      "metadata": {
        "id": "smdUWAfQQix-"
      },
      "source": [
        "#Accuracy vs Depth of the tree"
      ]
    },
    {
      "cell_type": "code",
      "metadata": {
        "id": "CsdP7JnaQdfv",
        "colab": {
          "base_uri": "https://localhost:8080/",
          "height": 279
        },
        "outputId": "7433996f-8f2a-4f45-fbe4-df1f2b607919"
      },
      "source": [
        "#plotting graph with respect of the tree depth\n",
        "plt.xlabel('Depth of the tree')\n",
        "plt.ylabel('Accuracy')\n",
        "plt.plot(depth_of_the_tree, Acc, label=\"Accuracy\")\n",
        "plt.legend(loc='best')\n",
        "plt.savefig('A_Depth.png')\n",
        "#files.download(\"A_Depth.png\")"
      ],
      "execution_count": null,
      "outputs": [
        {
          "output_type": "display_data",
          "data": {
            "image/png": "[encoded data removed]",
            "text/plain": [
              "<Figure size 432x288 with 1 Axes>"
            ]
          },
          "metadata": {
            "needs_background": "light"
          }
        }
      ]
    },
    {
      "cell_type": "markdown",
      "metadata": {
        "id": "uCRt5ck6QqZ8"
      },
      "source": [
        "#Accuracy vs number of nodes in the tree"
      ]
    },
    {
      "cell_type": "code",
      "metadata": {
        "id": "RNAYv8CrQaNb",
        "colab": {
          "base_uri": "https://localhost:8080/",
          "height": 279
        },
        "outputId": "878747a8-549c-493c-b80b-b1ef3cc14c56"
      },
      "source": [
        "#plotting graph with respect of number of nodes\n",
        "plt.xlabel('Number of Nodes')\n",
        "plt.ylabel('Accuracy')\n",
        "plt.plot(no_of_nodes, Acc, label=\"Accuracy\")\n",
        "plt.legend(loc='best')\n",
        "plt.savefig('N_Depth.png')\n",
        "#files.download(\"N_Depth.png\")"
      ],
      "execution_count": null,
      "outputs": [
        {
          "output_type": "display_data",
          "data": {
            "image/png": "[encoded data removed]",
            "text/plain": [
              "<Figure size 432x288 with 1 Axes>"
            ]
          },
          "metadata": {
            "needs_background": "light"
          }
        }
      ]
    },
    {
      "cell_type": "markdown",
      "metadata": {
        "id": "8tKqOEcg3PyB"
      },
      "source": [
        "#Using Error-complexity Pruning method to prune the best tree out of 10 previous folds: Q4 solution"
      ]
    },
    {
      "cell_type": "code",
      "metadata": {
        "id": "wb3ctVhFzuMU",
        "colab": {
          "base_uri": "https://localhost:8080/",
          "height": 764
        },
        "outputId": "b6de2204-cda5-4c5e-a9a2-162b1a2ea91b"
      },
      "source": [
        "best_model.fit()        #If rerun, this cell will not give correct output as best_model is pruned to depth1. If want to rerun, uncomment this line\n",
        "Accuracy_on_test= []\n",
        "Accuracy_on_training_data= []\n",
        "nodes = []\n",
        "while best_model.total_nodes() >= 3:\n",
        "  Accuracy_on_test.append(best_model.score())\n",
        "  Accuracy_on_training_data.append(best_model.score_on_training_data())\n",
        "  nodes.append(best_model.total_nodes())\n",
        "  best_model.Error_complexity_prunning()\n",
        "\n",
        "for i in range(len(Accuracy_on_test)):\n",
        "  print('Accuracy on Training Data: ' + str(Accuracy_on_training_data[i]) + ' On Testing Data: '+str(Accuracy_on_test[i]) + ' Nodes: '+str(nodes[i]))\n",
        "#print(Accuracy_on_test)\n",
        "#print(nodes)\n",
        "#print(Accuracy_on_training_data)\n",
        "\n",
        "#plotting graph\n",
        "plt.xlabel('Number of Nodes')\n",
        "plt.ylabel('Accuracy')\n",
        "plt.title('Accuracy vs Numbers of ndoes')\n",
        "plt.plot(nodes, Accuracy_on_test, label=\"On Testing data\")\n",
        "plt.plot(nodes, Accuracy_on_training_data, label=\"On Training Data\")\n",
        "plt.legend(loc='best')\n",
        "plt.savefig('Error_prune.png')\n",
        "#files.download(\"Error_prune.png\")"
      ],
      "execution_count": null,
      "outputs": [
        {
          "output_type": "stream",
          "name": "stdout",
          "text": [
            "Accuracy on Training Data: 1.0 On Testing Data: 0.782608695652174 Nodes: 123\n",
            "Accuracy on Training Data: 0.9963768115942029 On Testing Data: 0.782608695652174 Nodes: 117\n",
            "Accuracy on Training Data: 0.9927536231884058 On Testing Data: 0.782608695652174 Nodes: 111\n",
            "Accuracy on Training Data: 0.9855072463768116 On Testing Data: 0.782608695652174 Nodes: 103\n",
            "Accuracy on Training Data: 0.9818840579710145 On Testing Data: 0.782608695652174 Nodes: 99\n",
            "Accuracy on Training Data: 0.9782608695652174 On Testing Data: 0.782608695652174 Nodes: 95\n",
            "Accuracy on Training Data: 0.9746376811594203 On Testing Data: 0.782608695652174 Nodes: 91\n",
            "Accuracy on Training Data: 0.9710144927536232 On Testing Data: 0.782608695652174 Nodes: 87\n",
            "Accuracy on Training Data: 0.967391304347826 On Testing Data: 0.782608695652174 Nodes: 83\n",
            "Accuracy on Training Data: 0.9637681159420289 On Testing Data: 0.7971014492753623 Nodes: 79\n",
            "Accuracy on Training Data: 0.9528985507246377 On Testing Data: 0.8115942028985508 Nodes: 69\n",
            "Accuracy on Training Data: 0.9456521739130435 On Testing Data: 0.8115942028985508 Nodes: 63\n",
            "Accuracy on Training Data: 0.9311594202898551 On Testing Data: 0.7971014492753623 Nodes: 53\n",
            "Accuracy on Training Data: 0.9239130434782609 On Testing Data: 0.7971014492753623 Nodes: 49\n",
            "Accuracy on Training Data: 0.9202898550724637 On Testing Data: 0.7971014492753623 Nodes: 47\n",
            "Accuracy on Training Data: 0.9130434782608695 On Testing Data: 0.7971014492753623 Nodes: 43\n",
            "Accuracy on Training Data: 0.9094202898550725 On Testing Data: 0.7971014492753623 Nodes: 41\n",
            "Accuracy on Training Data: 0.9021739130434783 On Testing Data: 0.8115942028985508 Nodes: 37\n",
            "Accuracy on Training Data: 0.894927536231884 On Testing Data: 0.8115942028985508 Nodes: 33\n",
            "Accuracy on Training Data: 0.8913043478260869 On Testing Data: 0.8115942028985508 Nodes: 31\n",
            "Accuracy on Training Data: 0.8876811594202898 On Testing Data: 0.8115942028985508 Nodes: 29\n",
            "Accuracy on Training Data: 0.8768115942028986 On Testing Data: 0.8260869565217391 Nodes: 25\n",
            "Accuracy on Training Data: 0.8659420289855072 On Testing Data: 0.7971014492753623 Nodes: 21\n",
            "Accuracy on Training Data: 0.8405797101449275 On Testing Data: 0.7971014492753623 Nodes: 13\n",
            "Accuracy on Training Data: 0.8297101449275363 On Testing Data: 0.7971014492753623 Nodes: 11\n",
            "Accuracy on Training Data: 0.8152173913043478 On Testing Data: 0.7971014492753623 Nodes: 9\n",
            "Accuracy on Training Data: 0.7862318840579711 On Testing Data: 0.8115942028985508 Nodes: 5\n"
          ]
        },
        {
          "output_type": "display_data",
          "data": {
            "image/png": "[encoded data removed]",
            "text/plain": [
              "<Figure size 432x288 with 1 Axes>"
            ]
          },
          "metadata": {
            "needs_background": "light"
          }
        }
      ]
    },
    {
      "cell_type": "markdown",
      "metadata": {
        "id": "BdIKY980Bszl"
      },
      "source": [
        "#Decison tree with best depth: Q5 solution"
      ]
    },
    {
      "cell_type": "code",
      "metadata": {
        "id": "HMOLnWoFByaq",
        "colab": {
          "base_uri": "https://localhost:8080/"
        },
        "outputId": "26045af4-76f2-41d8-a870-cbaf00403abb"
      },
      "source": [
        "best_depth_model.print_tree()"
      ],
      "execution_count": null,
      "outputs": [
        {
          "output_type": "stream",
          "name": "stdout",
          "text": [
            "  ||  Attribute_index[4] <= 59.5  ||   || \n",
            "  ||  Attribute_index[0] <= 91.0  ||    ||  Attribute_index[0] <= 90.5  ||   || \n",
            "  ||  Class: 2.0      ||  Class: 2.0      ||  Class: 2.0      ||  Class: 1.0     || \n"
          ]
        }
      ]
    },
    {
      "cell_type": "markdown",
      "metadata": {
        "id": "jmsCKbQupe-H"
      },
      "source": [
        "#Decision Tree class: Q1 solution"
      ]
    },
    {
      "cell_type": "code",
      "metadata": {
        "id": "wL8At8MQV6gV"
      },
      "source": [
        "class Decision_tree:\n",
        "  def __init__(self,x_train,y_train,x_test,y_test, criteria = 'Gini', depth = None):\n",
        "    self.x_train = x_train\n",
        "    self.y_train = y_train\n",
        "    self.x_test = x_test\n",
        "    self.y_test = y_test\n",
        "    self.depth_limit = depth\n",
        "    self.root = None\n",
        "    self.criteria = criteria\n",
        "    if self.depth_limit is not None:\n",
        "      self.depth_limit = int(self.depth_limit)\n",
        "      if self.depth_limit < 0:\n",
        "        self.depth_limit = -self.depth_limit\n",
        "    self.possible_prunes = []\n",
        "\n",
        "\n",
        "  def calculate_entropy(self, train_y):\n",
        "    uni = np.unique(train_y)\n",
        "    freq = [0] * len(uni)\n",
        "    id = list(range(len(uni)))\n",
        "    species_dict=dict(zip(uni,id))\n",
        "    for i in range(len(train_y)):\n",
        "      j = species_dict[train_y[i]]\n",
        "      freq[j] = freq[j] + 1\n",
        "    entropy = 0\n",
        "    for i in freq:\n",
        "      if i == 0:\n",
        "        continue\n",
        "      entropy = entropy - (i/len(train_y))*math.log((i/len(train_y)),2)\n",
        "    return entropy\n",
        "  \n",
        "  def calculate_Gini_value(self, train_y):\n",
        "    l = len(train_y)\n",
        "    uni = np.unique(train_y)\n",
        "    freq = np.array([0] * len(uni))\n",
        "    id = list(range(len(uni)))\n",
        "    species_dict=dict(zip(uni,id))\n",
        "    for i in range(l):\n",
        "      j = species_dict[train_y[i]]\n",
        "      freq[j] = freq[j] + 1\n",
        "    gini_value = 0\n",
        "    for i in freq:\n",
        "      gini_value = gini_value + math.pow(i/l,2)\n",
        "    gini_value = 1 - gini_value\n",
        "\n",
        "    return gini_value\n",
        "\n",
        "  def split_calculate(self, train_x, train_y, threshold, atrr):\n",
        "    l = len(train_y)\n",
        "    temp1_y = []        #classes with atrr >= threshold\n",
        "    \n",
        "    temp2_y = []      #classes with attr < threshold\n",
        "\n",
        "    s1 = 0\n",
        "    s2 = 0\n",
        "    for i in  range(0,l):\n",
        "      if train_x[i][atrr] >= threshold:\n",
        "        temp1_y.append(train_y[i])\n",
        "        s1 = s1 + 1\n",
        "      else:\n",
        "        temp2_y.append(train_y[i])\n",
        "        s2 = s2 + 1\n",
        "    entr1 = 0\n",
        "    entr2 = 0\n",
        "    if self.criteria == 'Gini':\n",
        "      entr1 = self.calculate_Gini_value(copy.deepcopy(temp1_y))\n",
        "      entr2 = self.calculate_Gini_value(copy.deepcopy(temp2_y))\n",
        "    else:\n",
        "      entr1 = self.calculate_entropy(copy.deepcopy(temp1_y))\n",
        "      entr2 = self.calculate_entropy(copy.deepcopy(temp2_y))\n",
        "    \n",
        "    return [[s1, entr1],[s2,entr2]]\n",
        "\n",
        "  def candidates(self, train_x, train_y, attr):\n",
        "    mp = []\n",
        "    l = len(train_y)\n",
        "    for i in range(l):\n",
        "      mp.append([train_x[i][attr], train_y[i]])\n",
        "    mp.sort(key = lambda x: x[0])\n",
        "\n",
        "    #create boolean attributes\n",
        "    candidate_thresholds=[]\n",
        "    for i in range(1,l):\n",
        "      if mp[i][1] != mp[i-1][1]:\n",
        "        candidate_thresholds.append((mp[i][0] + mp[i-1][0])/2)\n",
        "    return candidate_thresholds\n",
        "\n",
        "    \n",
        "  def impurity_measure(self, train_x, train_y):\n",
        "    l = len(train_y)\n",
        "    current_GINI_or_entropy = 0\n",
        "    if self.criteria == 'Gini':\n",
        "      current_GINI_or_entropy = self.calculate_Gini_value(copy.deepcopy(train_y))\n",
        "    else:\n",
        "      current_GINI_or_entropy = self.calculate_entropy(copy.deepcopy(train_y))\n",
        "    if current_GINI_or_entropy == 0:                     #check for leaf node or pure node\n",
        "      return [None, None, 1]\n",
        "    max_gain = [-1,-1,-1]                                     #attribute index, its threshold value, gain\n",
        "    no_of_attributes = len(train_x[0])\n",
        "    for i in range(no_of_attributes):\n",
        "      candidate_thresholds = self.candidates(copy.deepcopy(train_x),copy.deepcopy(train_y),i)\n",
        "      max_gain_j = [-1,-1, -1]    #[attr_index, threshold, gain]\n",
        "      for j in candidate_thresholds:\n",
        "        entropies_or_gini = self.split_calculate(copy.deepcopy(train_x), copy.deepcopy(train_y), j, i)\n",
        "        gain_j = 0 \n",
        "        for k in entropies_or_gini:\n",
        "          gain_j = gain_j + (k[0]/l)*k[1]\n",
        "        gain_j = current_GINI_or_entropy - gain_j\n",
        "\n",
        "        if max_gain_j[2] < gain_j: \n",
        "          max_gain_j = [i, j, gain_j]\n",
        "      if max_gain[2] < max_gain_j[2]:\n",
        "        max_gain = copy.deepcopy(max_gain_j)\n",
        "\n",
        "    return max_gain\n",
        "\n",
        "  def compare(self, A, B, geq):\n",
        "    if geq == 1:\n",
        "      return A >= B\n",
        "    return A < B \n",
        "\n",
        "  def partition(self, train_x, train_y, attr, threshold, geq):\n",
        "    tempX = []\n",
        "    tempY = []\n",
        "    l = len(train_x)\n",
        "    for i in range(l):\n",
        "      if self.compare(train_x[i][attr] ,threshold ,geq):\n",
        "        tempX.append(train_x[i])\n",
        "        tempY.append(train_y[i])\n",
        "    return [tempX, tempY]\n",
        "  \n",
        "  def most_probable_class(self,train_y):\n",
        "    uni = np.unique(train_y)\n",
        "    freq = np.array([0] * len(uni))\n",
        "    id = list(range(len(uni)))\n",
        "    species_dict=dict(zip(uni,id))\n",
        "    for i in range(len(train_y)):\n",
        "      j = species_dict[train_y[i]]\n",
        "      freq[j] = freq[j] + 1\n",
        "    max_freq_index = np.argmax(freq)\n",
        "    class_index = 0\n",
        "    for key,value in species_dict.items():\n",
        "      if max_freq_index == value:\n",
        "        class_index = key\n",
        "        break\n",
        "    return class_index\n",
        "\n",
        "  def R_t(self, rt):\n",
        "    class_error_if_pruned = 0\n",
        "    if rt.class_distribution[1] >= rt.class_distribution[2]:\n",
        "      class_error_if_pruned = rt.class_distribution[2]\n",
        "    else:\n",
        "      class_error_if_pruned = rt.class_distribution[1]\n",
        "    R_t = class_error_if_pruned/len(self.x_train)\n",
        "    return R_t\n",
        "\n",
        "  def R_T(self,rt):\n",
        "    if rt.leaf_node:\n",
        "      classification = rt.Attribute_index         #class of leaf node\n",
        "      if classification == 1:\n",
        "        return rt.class_distribution[2]\n",
        "      else:\n",
        "        return rt.class_distribution[1]\n",
        "\n",
        "    return self.R_T(rt.left_P) + self.R_T(rt.right_P)\n",
        "\n",
        "\n",
        "  def inorder_tree(self, rt):\n",
        "    if rt.leaf_node:\n",
        "      return\n",
        "    \n",
        "    self.inorder_tree(rt.left_P)\n",
        "\n",
        "    R_t_value = self.R_t(rt)\n",
        "    R_T_value = self.R_T(rt)/len(self.x_train)\n",
        "    N_t = self.find_no_of_leaf_nodes(rt)\n",
        "\n",
        "    alpha = (R_t_value - R_T_value)/(N_t - 1)\n",
        "    self.possible_prunes.append([alpha, rt])\n",
        "\n",
        "    self.inorder_tree(rt.right_P)\n",
        "\n",
        "  def Error_complexity_prunning(self):\n",
        "    self.possible_prunes = []\n",
        "    self.inorder_tree(self.root)\n",
        "\n",
        "    getting_pruned = 0\n",
        "    min_alpha = 1\n",
        "    l = len(self.possible_prunes)\n",
        "    for i in range(l):\n",
        "      if self.possible_prunes[i][0] < min_alpha:\n",
        "        min_alpha = self.possible_prunes[i][0]\n",
        "        getting_pruned = self.possible_prunes[i][1]\n",
        "\n",
        "\n",
        "    #prune subtree with lowest alpha value\n",
        "    getting_pruned.leaf_node = True\n",
        "    if getting_pruned.class_distribution[1] >= getting_pruned.class_distribution[2]:\n",
        "      getting_pruned.Attribute_index = 1\n",
        "    else:\n",
        "      getting_pruned.Attribute_index = 2\n",
        "    getting_pruned.left_P = None\n",
        "    getting_pruned.right_P = None\n",
        "    getting_pruned.threshold = None\n",
        "\n",
        "\n",
        "  def create_dict(self,train_y):\n",
        "    d = {1 : 0, 2 : 0}\n",
        "    l = len(train_y)\n",
        "    for i in range(l):\n",
        "      d[train_y[i]] = d[train_y[i]] + 1\n",
        "    return d\n",
        "\n",
        "  def train_model(self, train_x, train_y, d):\n",
        "    if self.depth_limit == d:                                               #if self.depth_limit is None then, None == int then it will be false\n",
        "      return Tree_Node(self.most_probable_class(copy.deepcopy(train_y)), None, True)\n",
        "    max_gain = self.impurity_measure(copy.deepcopy(train_x),copy.deepcopy(train_y))       #[attr_index, threshold, gain] \n",
        "    if max_gain[2] == 1:            #leaf node\n",
        "      rt = Tree_Node(self.most_probable_class(copy.deepcopy(train_y)), None, True)\n",
        "      rt.class_distribution = self.create_dict(copy.deepcopy(train_y))\n",
        "      return rt\n",
        "    else:\n",
        "      r = Tree_Node(max_gain[0],max_gain[1],False)\n",
        "      split1_x, split1_y = self.partition(copy.deepcopy(train_x), copy.deepcopy(train_y), max_gain[0], max_gain[1], 1)\n",
        "      split2_x, split2_y = self.partition(copy.deepcopy(train_x), copy.deepcopy(train_y), max_gain[0], max_gain[1], 0)\n",
        "\n",
        "      r.right_P = self.train_model(copy.deepcopy(split1_x), copy.deepcopy(split1_y),d+1)\n",
        "      r.left_P = self.train_model(copy.deepcopy(split2_x), copy.deepcopy(split2_y),d+1)\n",
        "\n",
        "      r.class_distribution = {1 : r.right_P.class_distribution[1] + r.left_P.class_distribution[1], 2 : r.right_P.class_distribution[2] + r.left_P.class_distribution[2]}\n",
        "      return r\n",
        "\n",
        "  def fit(self):\n",
        "    self.root = self.train_model(copy.deepcopy(self.x_train), copy.deepcopy(self.y_train),0)\n",
        "  \n",
        "  def predict_class(self, test_row, rt):\n",
        "    if rt.leaf_node:\n",
        "      return rt.Attribute_index\n",
        "    else:\n",
        "      if self.compare(test_row[rt.Attribute_index], rt.threshold, 1):\n",
        "        return self.predict_class(test_row,rt.right_P)\n",
        "      else:\n",
        "        return self.predict_class(test_row, rt.left_P)\n",
        "\n",
        "  def predict(self,test_row):\n",
        "    return self.predict_class(test_row,self.root)\n",
        "  \n",
        "  def score(self):\n",
        "    correct_prediction = 0\n",
        "    for i in range(0, len(self.y_test)):\n",
        "      if self.predict(self.x_test[i]) == self.y_test[i]:\n",
        "        correct_prediction = correct_prediction + 1\n",
        "    return correct_prediction/len(x_test)\n",
        "  \n",
        "  def score_on_training_data(self):\n",
        "    correct_prediction = 0\n",
        "    for i in range(0, len(self.y_train)):\n",
        "      if self.predict(self.x_train[i]) == self.y_train[i]:\n",
        "        correct_prediction = correct_prediction + 1\n",
        "    return correct_prediction/len(x_train)\n",
        "  \n",
        "  def tree_depth(self):\n",
        "    return self.find_depth(self.root)\n",
        "\n",
        "  def find_depth(self, rt):           #not considering leaf nodes in depth\n",
        "    if rt.leaf_node:\n",
        "      return 0\n",
        "    l = self.find_depth(rt.left_P)\n",
        "    r = self.find_depth(rt.right_P)\n",
        "\n",
        "    return max(l,r) + 1\n",
        "\n",
        "  def find_no_of_leaf_nodes(self, rt):      #considering leaf nodes\n",
        "    if rt is None:\n",
        "      return 0\n",
        "    elif rt.leaf_node:\n",
        "      return 1\n",
        "    else:\n",
        "      return self.find_no_of_leaf_nodes(rt.left_P) + self.find_no_of_leaf_nodes(rt.right_P)\n",
        "\n",
        "  def no_of_leaf_nodes(self):\n",
        "    return self.find_no_of_leaf_nodes(self.root)\n",
        "  \n",
        "  def find_total_nodes(self, rt):\n",
        "    if rt is None:\n",
        "      return 0\n",
        "    elif rt.leaf_node:\n",
        "      return 1\n",
        "    else:\n",
        "      return self.find_total_nodes(rt.left_P) + self.find_total_nodes(rt.right_P) + 1\n",
        "  \n",
        "  def total_nodes(self):\n",
        "    return self.find_total_nodes(self.root)\n",
        "  \n",
        "  def prune_tree_at_depth(self, rt, limit, curr_depth, train_x, train_y):\n",
        "    if rt is None:\n",
        "      return\n",
        "    elif rt.leaf_node:\n",
        "      return\n",
        "    elif curr_depth < limit:\n",
        "      split1_x, split1_y = self.partition(copy.deepcopy(train_x), copy.deepcopy(train_y), rt.Attribute_index, rt.threshold, 1)\n",
        "      split2_x, split2_y = self.partition(copy.deepcopy(train_x), copy.deepcopy(train_y), rt.Attribute_index, rt.threshold, 0)\n",
        "\n",
        "      self.prune_tree_at_depth(rt.right_P, limit, curr_depth + 1, copy.deepcopy(split1_x), copy.deepcopy(split1_y))\n",
        "      self.prune_tree_at_depth(rt.left_P, limit, curr_depth + 1, copy.deepcopy(split2_x), copy.deepcopy(split2_y))\n",
        "    else:                                                                                                           #make it to a leaf node\n",
        "      rt.leaf_node = True\n",
        "      rt.Attribute_index = self.most_probable_class(copy.deepcopy(train_y))\n",
        "      rt.threshold = None\n",
        "      rt.left_P = None\n",
        "      rt.right_P = None\n",
        "\n",
        "  def prune_at_depth(self, d):\n",
        "    self.prune_tree_at_depth(self.root, d, 0,copy.deepcopy(self.x_train) ,copy.deepcopy(self.y_train))\n",
        "    self.depth_limit = d\n",
        "    #print('depth = ' + str(self.find_depth(self.root)))\n",
        "\n",
        "  def rightmost_nodes(self,rt,l):\n",
        "    if rt is None:\n",
        "      return\n",
        "    l.append(rt)\n",
        "    self.rightmost_nodes(rt.right_P,l)\n",
        "  def right_mostnode_true(self,rt,l):\n",
        "    for i in l:\n",
        "      if i == rt:\n",
        "        return True\n",
        "    return False\n",
        "\n",
        "  def BFS_On_tree(self, q):\n",
        "    l = []\n",
        "    self.rightmost_nodes(self.root,l)\n",
        "    x = 1\n",
        "    while len(q) != 0:\n",
        "      rt = q.pop(0)\n",
        "      if rt.leaf_node:\n",
        "        print('  ||  Class: ' + str(rt.Attribute_index), end = '    ')\n",
        "      else:\n",
        "        print('  ||  Attribute_index[' + str(rt.Attribute_index) + '] <= ' + str(rt.threshold), end = '  ||  ')\n",
        "        q.append(rt.left_P)\n",
        "        q.append(rt.right_P)\n",
        "      if self.right_mostnode_true(rt, l):\n",
        "        print(' || ')\n",
        "      x = x + 1\n",
        "\n",
        "  def print_tree(self):\n",
        "    queue = []\n",
        "    queue.append(self.root)\n",
        "    self.BFS_On_tree(queue)\n",
        "\n",
        "\n"
      ],
      "execution_count": null,
      "outputs": []
    }
  ]
}